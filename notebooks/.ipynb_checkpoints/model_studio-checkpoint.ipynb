{
 "cells": [
  {
   "cell_type": "code",
   "execution_count": 4,
   "metadata": {},
   "outputs": [
    {
     "name": "stdout",
     "output_type": "stream",
     "text": [
      "Preparation of a new explainer is initiated\n",
      "\n",
      "  -> data              : 1250 rows 37 cols\n",
      "  -> target variable   : Parameter 'y' was a pandas.Series. Converted to a numpy.ndarray.\n",
      "  -> target variable   : 1250 values\n",
      "  -> model_class       : sklearn.svm._classes.SVR (default)\n",
      "  -> label             : scikit-learn\n",
      "  -> predict function  : <function yhat_default at 0x00000269FD9F3130> will be used (default)\n",
      "  -> predict function  : Accepts pandas.DataFrame and numpy.ndarray.\n",
      "  -> predicted values  : min = 13.0, mean = 15.4, max = 18.1\n",
      "  -> model type        : regression will be used (default)\n",
      "  -> residual function : difference between y and yhat (default)\n"
     ]
    },
    {
     "name": "stderr",
     "output_type": "stream",
     "text": [
      "c:\\ProgramData\\Miniconda3\\envs\\iess\\lib\\site-packages\\sklearn\\base.py:409: UserWarning: X does not have valid feature names, but StandardScaler was fitted with feature names\n",
      "  warnings.warn(\n"
     ]
    },
    {
     "name": "stdout",
     "output_type": "stream",
     "text": [
      "  -> residuals         : min = -1.4, mean = -0.0354, max = 0.627\n",
      "  -> model_info        : package sklearn\n",
      "\n",
      "A new explainer has been created!\n",
      "  -> 'residual_function' attribute is a local function; thus, has to be dropped.\n"
     ]
    },
    {
     "data": {
      "text/plain": [
       "<dalex._explainer.object.Explainer at 0x269dc16be50>"
      ]
     },
     "execution_count": 4,
     "metadata": {},
     "output_type": "execute_result"
    }
   ],
   "source": [
    "# load packages and data\n",
    "import dalex as dx\n",
    "from sklearn.model_selection import train_test_split\n",
    "from sklearn.pipeline import Pipeline\n",
    "from sklearn.preprocessing import StandardScaler\n",
    "from sklearn.svm import SVR\n",
    "from numpy import log\n",
    "\n",
    "data = dx.datasets.load_fifa()\n",
    "X = data.drop(columns=['overall', 'potential', 'value_eur', 'wage_eur', 'nationality'], axis=1)\n",
    "y = log(data.value_eur)\n",
    "\n",
    "# split the data\n",
    "X_train, X_test, y_train, y_test = train_test_split(X, y)\n",
    "\n",
    "# fit a pipeline model\n",
    "model = Pipeline([('scale', StandardScaler()), ('svm', SVR())])\n",
    "model.fit(X_train, y_train)\n",
    "\n",
    "# create an explainer for the model\n",
    "explainer = dx.Explainer(model, data=X_test, y=y_test, label='scikit-learn')\n",
    "\n",
    "# pack the explainer into a pickle file\n",
    "explainer.dump(open('explainer_scikitlearn.pickle', 'wb'))\n",
    "explainer"
   ]
  },
  {
   "cell_type": "code",
   "execution_count": null,
   "metadata": {},
   "outputs": [],
   "source": []
  }
 ],
 "metadata": {
  "kernelspec": {
   "display_name": "iess",
   "language": "python",
   "name": "python3"
  },
  "language_info": {
   "codemirror_mode": {
    "name": "ipython",
    "version": 3
   },
   "file_extension": ".py",
   "mimetype": "text/x-python",
   "name": "python",
   "nbconvert_exporter": "python",
   "pygments_lexer": "ipython3",
   "version": "3.10.9"
  },
  "orig_nbformat": 4,
  "vscode": {
   "interpreter": {
    "hash": "f4cf756318c5baf063904390cc1c45f44e0c4a58afcc68624f9a807c074ac65c"
   }
  }
 },
 "nbformat": 4,
 "nbformat_minor": 2
}
